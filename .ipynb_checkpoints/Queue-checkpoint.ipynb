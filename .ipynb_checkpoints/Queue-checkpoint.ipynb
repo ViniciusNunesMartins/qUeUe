{
 "cells": [
  {
   "cell_type": "code",
   "execution_count": 2,
   "metadata": {},
   "outputs": [],
   "source": [
    "from Member.models import Member\n",
    "import os"
   ]
  },
  {
   "cell_type": "code",
   "execution_count": 23,
   "metadata": {},
   "outputs": [],
   "source": []
  },
  {
   "cell_type": "code",
   "execution_count": 24,
   "metadata": {},
   "outputs": [],
   "source": []
  },
  {
   "cell_type": "code",
   "execution_count": 25,
   "metadata": {},
   "outputs": [
    {
     "name": "stdout",
     "output_type": "stream",
     "text": [
      "0 True 03:23:39 (6, 4) True 03:23:39 Is you!\n",
      "1 True 12:08:49 (8, 4) True 12:08:49 Position: 1º\n",
      "2 False 03:23:10 (1, 4) False 03:23:10 Position: 2º\n",
      "3 False 03:23:20 (2, 4) False 03:23:20 Position: 3º\n",
      "4 False 03:23:28 (4, 4) False 03:23:28 Position: 4º\n",
      "5 False 03:23:42 (7, 4) False 03:23:42 Position: 5º\n"
     ]
    }
   ],
   "source": [
    "members = list(Member.objects.all())\n",
    "members = sorted(members, key=lambda m: m.position())\n",
    "for m in members:\n",
    "    print (m.position() ,m.priority, m.create_at, m)"
   ]
  },
  {
   "cell_type": "code",
   "execution_count": 19,
   "metadata": {},
   "outputs": [
    {
     "data": {
      "text/plain": [
       "(1, {'Member.Member': 1})"
      ]
     },
     "execution_count": 19,
     "metadata": {},
     "output_type": "execute_result"
    }
   ],
   "source": [
    "members[0].delete()"
   ]
  },
  {
   "cell_type": "code",
   "execution_count": null,
   "metadata": {},
   "outputs": [],
   "source": []
  }
 ],
 "metadata": {
  "kernelspec": {
   "display_name": "Django Shell-Plus",
   "language": "python",
   "name": "django_extensions"
  },
  "language_info": {
   "codemirror_mode": {
    "name": "ipython",
    "version": 3
   },
   "file_extension": ".py",
   "mimetype": "text/x-python",
   "name": "python",
   "nbconvert_exporter": "python",
   "pygments_lexer": "ipython3",
   "version": "3.8.0"
  }
 },
 "nbformat": 4,
 "nbformat_minor": 4
}
